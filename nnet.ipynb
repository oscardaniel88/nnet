{
 "cells": [
  {
   "cell_type": "code",
   "execution_count": 1,
   "metadata": {},
   "outputs": [],
   "source": [
    "import numpy as np\n",
    "import matplotlib.pyplot as plt\n"
   ]
  },
  {
   "cell_type": "code",
   "execution_count": 3,
   "metadata": {},
   "outputs": [],
   "source": [
    "def init_params(layer_dims):\n",
    "    np.random.seed(3)\n",
    "    params={}\n",
    "    L=len(layer_dims)\n",
    "    \n",
    "    for l in range(1,L):\n",
    "        params['W'+str(l)]=np.random.randn(layer_dims[l],layer_dims[l-1])*0.01\n",
    "        params['b'+str(l)]=np.zeros((layer_dims[l],1))\n",
    "    return params"
   ]
  },
  {
   "cell_type": "code",
   "execution_count": 4,
   "metadata": {},
   "outputs": [],
   "source": [
    "def sigmoid(Z):\n",
    "    A=1/(1+np.exp(np.dot(-1,Z)))\n",
    "    cache=(Z)\n",
    "    return A,cache\n"
   ]
  },
  {
   "cell_type": "code",
   "execution_count": 5,
   "metadata": {},
   "outputs": [],
   "source": [
    "def forward_prop(X, params):\n",
    "    A = X \n",
    "    caches=[]\n",
    "    L=len(params)//2\n",
    "    for l in range (1, L+1):\n",
    "        A_prev = A\n",
    "        \n",
    "        #Linear Hypothesis\n",
    "        Z = np.dot(params['W'+str(l)],A_prev) + params['b'+str(l)]\n",
    "        \n",
    "        #Storing the linear cache\n",
    "        linear_cache=(A_prev,params['W'+str(l)], params['b'+str(l)])\n",
    "        \n",
    "        #Applying sigmoid on linear hypothesis\n",
    "        A, activation_cache = sigmoid(Z)\n",
    "        \n",
    "        #storing the both linear and activation cache\n",
    "        cache = (linear_cache, activation_cache)\n",
    "        caches.append(cache)\n",
    "    \n",
    "    return A, caches"
   ]
  },
  {
   "cell_type": "code",
   "execution_count": 6,
   "metadata": {},
   "outputs": [],
   "source": [
    "def cost_function (A, Y):\n",
    "    m = Y.shape[1]\n",
    "    cost = (-1/m)*(np.dot(np.log(A),Y.T) + np.dot(log(1-A),1-Y.T))\n",
    "    return cost"
   ]
  },
  {
   "cell_type": "code",
   "execution_count": 7,
   "metadata": {},
   "outputs": [],
   "source": [
    "def one_layer_backward(dA, cache):\n",
    "    linear_cache, activation_cache = cache\n",
    "    Z = activation_cache\n",
    "    dZ = dA*sigmoid(Z)*(1-sigmoid(Z))\n",
    "    A_prev, W, b = linear_cache\n",
    "    m=A_prev.shape[1]\n",
    "    dW = (1/m)*np.dot(dZ, A_prev.T)\n",
    "    db = (1/m)*np.sum(dZ, axis=1, keepdims=True)\n",
    "    dA_prev = np.dot(W.T, dZ)\n",
    "    \n",
    "    return dA_prev, dW, db\n"
   ]
  },
  {
   "cell_type": "code",
   "execution_count": 8,
   "metadata": {},
   "outputs": [],
   "source": [
    "def backprop(AL, Y, caches):\n",
    "    grads={}\n",
    "    L=len(caches)\n",
    "    m=AL.shape[1]\n",
    "    Y=Y.reshape(AL.shape)\n",
    "    \n",
    "    dAL = -(np.divide(Y, AL)-np.divide(1-Y,1-AL))\n",
    "    current_cache = caches[L-1]\n",
    "    grads['dA'+str(L-1)], grads['dW'+str(L-1)],grads['db'+str(L-1)]=one_layer_backward(dAL,current_cache)\n",
    "    \n",
    "    for l in reversed(range(L-1)):\n",
    "        current_cache = caches[l]\n",
    "        dA_prev_temp, dW_temp, db_temp = one_layer_backward(grads['dA'+str(l+1)],current_cache)\n",
    "        grads['dA'+str(l)]=dA_prev_temp\n",
    "        grads['dW'+str(l+1)]=dW_temp\n",
    "        grads['db'+str(l+1)]=db_temp\n",
    "        \n",
    "    return grads\n",
    "    "
   ]
  },
  {
   "cell_type": "code",
   "execution_count": 9,
   "metadata": {},
   "outputs": [],
   "source": [
    "def update_parameters(parameters,grads,learning_rate):\n",
    "    L = len(parameters)//2\n",
    "    for l in range(L):\n",
    "        parameters['W'+str(l+1)]=parameters['W'+str(l+1)]-learning_rate*grads['W'+str(l+1)]\n",
    "        parameters['b'+str(l+1)]=parameters['b'+str(l+1)]-learning_rate*grads['b'+str(l+1)]\n",
    "        \n",
    "    return parameters"
   ]
  },
  {
   "cell_type": "code",
   "execution_count": 10,
   "metadata": {},
   "outputs": [],
   "source": [
    "def train(X, Y, layer_dims, epochs, lr):\n",
    "    params=init_params(layer_dims)\n",
    "    cost_history =[]\n",
    "    \n",
    "    for i in range(epochs):\n",
    "        Y_hat, caches = forward_prop(X, params)\n",
    "        cost = cost_function(Y_hat, Y)\n",
    "        cost_history.append(cost)\n",
    "        grads = backprop(Y_hat, Y, caches)\n",
    "        params = update_parameters(params, grads, lr)\n",
    "        \n",
    "    return params, cost_history"
   ]
  },
  {
   "cell_type": "code",
   "execution_count": null,
   "metadata": {},
   "outputs": [],
   "source": []
  }
 ],
 "metadata": {
  "kernelspec": {
   "display_name": "Python 3",
   "language": "python",
   "name": "python3"
  },
  "language_info": {
   "codemirror_mode": {
    "name": "ipython",
    "version": 3
   },
   "file_extension": ".py",
   "mimetype": "text/x-python",
   "name": "python",
   "nbconvert_exporter": "python",
   "pygments_lexer": "ipython3",
   "version": "3.5.2"
  }
 },
 "nbformat": 4,
 "nbformat_minor": 2
}
